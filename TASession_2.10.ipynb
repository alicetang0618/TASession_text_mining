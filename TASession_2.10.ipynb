{
 "cells": [
  {
   "cell_type": "markdown",
   "metadata": {},
   "source": [
    "## Regular Expression"
   ]
  },
  {
   "cell_type": "markdown",
   "metadata": {},
   "source": [
    "<img src=\"regex.png\">"
   ]
  },
  {
   "cell_type": "markdown",
   "metadata": {},
   "source": [
    "re.search(pattern, string)"
   ]
  },
  {
   "cell_type": "code",
   "execution_count": 1,
   "metadata": {
    "collapsed": true
   },
   "outputs": [],
   "source": [
    "import re"
   ]
  },
  {
   "cell_type": "code",
   "execution_count": 2,
   "metadata": {
    "collapsed": true
   },
   "outputs": [],
   "source": [
    "seq0 = \"AAACCCTTTGGG\"\n",
    "seq1 = \"AAGCGTTGGG\""
   ]
  },
  {
   "cell_type": "code",
   "execution_count": 3,
   "metadata": {
    "collapsed": false
   },
   "outputs": [
    {
     "data": {
      "text/plain": [
       "True"
      ]
     },
     "execution_count": 3,
     "metadata": {},
     "output_type": "execute_result"
    }
   ],
   "source": [
    "m = re.search(\"GGA\", seq0)\n",
    "m is None"
   ]
  },
  {
   "cell_type": "code",
   "execution_count": 4,
   "metadata": {
    "collapsed": false
   },
   "outputs": [
    {
     "data": {
      "text/plain": [
       "False"
      ]
     },
     "execution_count": 4,
     "metadata": {},
     "output_type": "execute_result"
    }
   ],
   "source": [
    "m = re.search(\"G.G\", seq1)\n",
    "m is None"
   ]
  },
  {
   "cell_type": "code",
   "execution_count": 5,
   "metadata": {
    "collapsed": false
   },
   "outputs": [
    {
     "data": {
      "text/plain": [
       "<_sre.SRE_Match object; span=(2, 5), match='GCG'>"
      ]
     },
     "execution_count": 5,
     "metadata": {},
     "output_type": "execute_result"
    }
   ],
   "source": [
    "m"
   ]
  },
  {
   "cell_type": "code",
   "execution_count": 6,
   "metadata": {
    "collapsed": false
   },
   "outputs": [
    {
     "data": {
      "text/plain": [
       "2"
      ]
     },
     "execution_count": 6,
     "metadata": {},
     "output_type": "execute_result"
    }
   ],
   "source": [
    "m.start()"
   ]
  },
  {
   "cell_type": "code",
   "execution_count": 7,
   "metadata": {
    "collapsed": false,
    "scrolled": true
   },
   "outputs": [
    {
     "data": {
      "text/plain": [
       "5"
      ]
     },
     "execution_count": 7,
     "metadata": {},
     "output_type": "execute_result"
    }
   ],
   "source": [
    "m.end()"
   ]
  },
  {
   "cell_type": "code",
   "execution_count": 8,
   "metadata": {
    "collapsed": false
   },
   "outputs": [
    {
     "data": {
      "text/plain": [
       "'GCG'"
      ]
     },
     "execution_count": 8,
     "metadata": {},
     "output_type": "execute_result"
    }
   ],
   "source": [
    "# only returns the first matching substring\n",
    "m.group()"
   ]
  },
  {
   "cell_type": "markdown",
   "metadata": {},
   "source": [
    "re.findall(pattern, string)"
   ]
  },
  {
   "cell_type": "code",
   "execution_count": 9,
   "metadata": {
    "collapsed": false
   },
   "outputs": [
    {
     "data": {
      "text/plain": [
       "['GCG', 'GGG']"
      ]
     },
     "execution_count": 9,
     "metadata": {},
     "output_type": "execute_result"
    }
   ],
   "source": [
    "re.findall(\"G.G\", seq1)"
   ]
  },
  {
   "cell_type": "code",
   "execution_count": 11,
   "metadata": {
    "collapsed": false
   },
   "outputs": [
    {
     "data": {
      "text/plain": [
       "['a cute dog']"
      ]
     },
     "execution_count": 11,
     "metadata": {},
     "output_type": "execute_result"
    }
   ],
   "source": [
    "re.findall(r\"a (?:\\w+) dog\", \"It's a cute dog!\")"
   ]
  },
  {
   "cell_type": "markdown",
   "metadata": {},
   "source": [
    "re.compile(pattern)"
   ]
  },
  {
   "cell_type": "code",
   "execution_count": 12,
   "metadata": {
    "collapsed": false
   },
   "outputs": [
    {
     "name": "stdout",
     "output_type": "stream",
     "text": [
      "None\n",
      "None\n",
      "<_sre.SRE_Match object; span=(0, 2), match='mm'>\n",
      "<_sre.SRE_Match object; span=(0, 3), match='mmm'>\n",
      "<_sre.SRE_Match object; span=(0, 4), match='mmmm'>\n",
      "None\n",
      "None\n",
      "<_sre.SRE_Match object; span=(0, 4), match='mmmm'>\n"
     ]
    }
   ],
   "source": [
    "# test whether a string matches the pattern\n",
    "pattern = re.compile(r\"m{2,4}\")\n",
    "print(pattern.match(\"\"))\n",
    "print(pattern.match(\"m\"))\n",
    "print(pattern.match(\"mm\"))\n",
    "print(pattern.match(\"mmm\"))\n",
    "print(pattern.match(\"mmmm\"))\n",
    "print(pattern.match(\"ammmmm\"))\n",
    "print(pattern.match(\"mammm\"))\n",
    "print(pattern.match(\"mmmmammm\"))"
   ]
  },
  {
   "cell_type": "code",
   "execution_count": 13,
   "metadata": {
    "collapsed": false
   },
   "outputs": [
    {
     "name": "stdout",
     "output_type": "stream",
     "text": [
      "Nope...\n"
     ]
    }
   ],
   "source": [
    "pattern = re.compile(r\"a{5}\")\n",
    "if pattern.match(\"aaabb\"):\n",
    "    print(\"Found it!\")\n",
    "else:\n",
    "    print(\"Nope...\")"
   ]
  },
  {
   "cell_type": "code",
   "execution_count": 20,
   "metadata": {
    "collapsed": false
   },
   "outputs": [
    {
     "data": {
      "text/plain": [
       "'In principio erat XXX, et XXX erat apud Deum.'"
      ]
     },
     "execution_count": 20,
     "metadata": {},
     "output_type": "execute_result"
    }
   ],
   "source": [
    "# substitute any substrings matching the pattern with another string\n",
    "s = \"In principio erat verbum, et verbum erat apud Deum.\"\n",
    "pattern = re.compile(r\"verbum\")\n",
    "pattern.sub(\"XXX\", s)"
   ]
  },
  {
   "cell_type": "code",
   "execution_count": 15,
   "metadata": {
    "collapsed": false
   },
   "outputs": [
    {
     "name": "stdout",
     "output_type": "stream",
     "text": [
      "n prncp rt vrbm, t vrbm rt pd Dm.\n"
     ]
    }
   ],
   "source": [
    "vowel_pattern = re.compile(r\"a|A|e|E|o|O|u|U|i|I\")\n",
    "without_vowels = vowel_pattern.sub(\"\", s)\n",
    "print(without_vowels)"
   ]
  },
  {
   "cell_type": "code",
   "execution_count": 16,
   "metadata": {
    "collapsed": false
   },
   "outputs": [
    {
     "name": "stdout",
     "output_type": "stream",
     "text": [
      "In pXncipio erat verbX, et verbX erat apud DeX.\n"
     ]
    }
   ],
   "source": [
    "p = re.compile(r\"ri|um|Th\")\n",
    "print(p.sub(\"X\", s))"
   ]
  },
  {
   "cell_type": "code",
   "execution_count": 23,
   "metadata": {
    "collapsed": false
   },
   "outputs": [
    {
     "name": "stdout",
     "output_type": "stream",
     "text": [
      "I                                             D    \n"
     ]
    }
   ],
   "source": [
    "ups = re.compile(r\"[^A-Z]\")\n",
    "without_ups = ups.sub(\" \", s)\n",
    "print(without_ups)"
   ]
  },
  {
   "cell_type": "code",
   "execution_count": 24,
   "metadata": {
    "collapsed": false
   },
   "outputs": [
    {
     "name": "stdout",
     "output_type": "stream",
     "text": [
      "My thesis on biology contains a lot of double spaces. I will remove them.\n"
     ]
    }
   ],
   "source": [
    "paper = \"My thesis on  biology     contains a lot of  double spaces.   I will remove  them.\"\n",
    "mult = re.compile(r\" +\")\n",
    "print(mult.sub(\" \", paper))"
   ]
  },
  {
   "cell_type": "markdown",
   "metadata": {},
   "source": [
    "Escape characters"
   ]
  },
  {
   "cell_type": "code",
   "execution_count": 26,
   "metadata": {
    "collapsed": false
   },
   "outputs": [
    {
     "name": "stdout",
     "output_type": "stream",
     "text": [
      "In principio erat verbum, et verbum erat apud DeumX\n"
     ]
    }
   ],
   "source": [
    "dot = re.compile(r\"\\.\")\n",
    "print(dot.sub(\"X\", s))"
   ]
  },
  {
   "cell_type": "code",
   "execution_count": 27,
   "metadata": {
    "collapsed": false
   },
   "outputs": [
    {
     "name": "stdout",
     "output_type": "stream",
     "text": [
      "In principio [erat] verbum, et verbum erat apud Deum.\n",
      "In principio XeratX verbum, et verbum erat apud Deum.\n"
     ]
    }
   ],
   "source": [
    "s = \"In principio [erat] verbum, et verbum erat apud Deum.\"\n",
    "brackets_wrong = re.compile(r\"[|]\")\n",
    "print(brackets_wrong.sub(\"X\", s))\n",
    "brackets_right = re.compile(r\"\\[|\\]\")\n",
    "print(brackets_right.sub(\"X\", s))"
   ]
  },
  {
   "cell_type": "code",
   "execution_count": 28,
   "metadata": {
    "collapsed": false
   },
   "outputs": [
    {
     "name": "stdout",
     "output_type": "stream",
     "text": [
      "['This', 'is', 'a', 'text', 'on', 'three', 'lines', 'with', 'multiple', 'instances', 'of', 'double', 'spaces.']\n"
     ]
    }
   ],
   "source": [
    "# Split a string using a pattern\n",
    "s = \"\"\"This is a text  on three   lines\n",
    "with   multiple instances of  \n",
    "double spaces.\"\"\"\n",
    "whitespace = re.compile(r\"\\s+\")\n",
    "print(whitespace.split(s))"
   ]
  },
  {
   "cell_type": "code",
   "execution_count": 29,
   "metadata": {
    "collapsed": false
   },
   "outputs": [
    {
     "data": {
      "text/plain": [
       "'This is a text  on three   lines\\nwith   multiple instances of  \\ndouble spaces.'"
      ]
     },
     "execution_count": 29,
     "metadata": {},
     "output_type": "execute_result"
    }
   ],
   "source": [
    "s"
   ]
  },
  {
   "cell_type": "markdown",
   "metadata": {
    "collapsed": true
   },
   "source": [
    "### Great Tutorial:\n",
    "https://github.com/jiffyclub/notebooks/blob/master/regex-intro.ipynb"
   ]
  },
  {
   "cell_type": "code",
   "execution_count": null,
   "metadata": {
    "collapsed": true
   },
   "outputs": [],
   "source": []
  }
 ],
 "metadata": {
  "kernelspec": {
   "display_name": "Python 3",
   "language": "python",
   "name": "python3"
  },
  "language_info": {
   "codemirror_mode": {
    "name": "ipython",
    "version": 3
   },
   "file_extension": ".py",
   "mimetype": "text/x-python",
   "name": "python",
   "nbconvert_exporter": "python",
   "pygments_lexer": "ipython3",
   "version": "3.5.1"
  }
 },
 "nbformat": 4,
 "nbformat_minor": 0
}
